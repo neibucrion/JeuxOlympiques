{
 "cells": [
  {
   "cell_type": "code",
   "execution_count": 2,
   "metadata": {
    "collapsed": false
   },
   "outputs": [],
   "source": [
    "from SPARQLWrapper import SPARQLWrapper, JSON"
   ]
  },
  {
   "cell_type": "code",
   "execution_count": 3,
   "metadata": {
    "collapsed": false
   },
   "outputs": [
    {
     "name": "stdout",
     "output_type": "stream",
     "text": [
      "52\n"
     ]
    }
   ],
   "source": [
    "endpoint = \"http://dbpedia.org/sparql\"\n",
    "\n",
    "query = \"\"\"\n",
    "PREFIX dbo: <http://dbpedia.org/ontology/>\n",
    "\n",
    "SELECT ?games\n",
    "WHERE { \n",
    "    ?games rdf:type umbel-rc:OlympicGames.\n",
    "}\n",
    "\"\"\"\n",
    "\n",
    "sparql = SPARQLWrapper(endpoint)\n",
    "sparql.setQuery(query)\n",
    "sparql.setReturnFormat(JSON)\n",
    "\n",
    "results = sparql.query().convert()\n",
    "\n",
    "print(len(results['results']['bindings']))"
   ]
  },
  {
   "cell_type": "code",
   "execution_count": 4,
   "metadata": {
    "collapsed": true
   },
   "outputs": [],
   "source": [
    "import json\n",
    "\n",
    "with open('dates.olympics.dbpedia.json', 'w') as outfile:\n",
    "    json.dump(results[\"results\"][\"bindings\"], outfile, sort_keys=True, indent=4, separators=(',', ': '))"
   ]
  },
  {
   "cell_type": "code",
   "execution_count": 16,
   "metadata": {
    "collapsed": false
   },
   "outputs": [
    {
     "name": "stdout",
     "output_type": "stream",
     "text": [
      "1896_Summer_Olympics\n",
      "1900_Summer_Olympics\n",
      "1904_Summer_Olympics\n",
      "1906_Intercalated_Games\n",
      "1908_Summer_Olympics\n",
      "1912_Summer_Olympics\n",
      "1916_Summer_Olympics\n",
      "1920_Summer_Olympics\n",
      "1924_Summer_Olympics\n",
      "1924_Winter_Olympics\n",
      "1928_Summer_Olympics\n",
      "1928_Winter_Olympics\n",
      "1932_Summer_Olympics\n",
      "1932_Winter_Olympics\n",
      "1936_Summer_Olympics\n",
      "1936_Winter_Olympics\n",
      "1948_Summer_Olympics\n",
      "1948_Winter_Olympics\n",
      "1952_Summer_Olympics\n",
      "1952_Winter_Olympics\n",
      "1956_Summer_Olympics\n",
      "1956_Winter_Olympics\n",
      "1960_Summer_Olympics\n",
      "1960_Winter_Olympics\n",
      "1964_Summer_Olympics\n",
      "1964_Winter_Olympics\n",
      "1968_Summer_Olympics\n",
      "1968_Winter_Olympics\n",
      "1972_Summer_Olympics\n",
      "1972_Winter_Olympics\n",
      "1976_Summer_Olympics\n",
      "1976_Winter_Olympics\n",
      "1980_Summer_Olympics\n",
      "1980_Winter_Olympics\n",
      "1984_Summer_Olympics\n",
      "1984_Winter_Olympics\n",
      "1988_Summer_Olympics\n",
      "1988_Winter_Olympics\n",
      "1992_Summer_Olympics\n",
      "1992_Winter_Olympics\n",
      "1994_Winter_Olympics\n",
      "1996_Summer_Olympics\n",
      "1998_Winter_Olympics\n",
      "2000_Summer_Olympics\n",
      "2002_Winter_Olympics\n",
      "2004_Summer_Olympics\n",
      "2006_Winter_Olympics\n",
      "2008_Summer_Olympics\n",
      "2010_Winter_Olympics\n",
      "2012_Summer_Olympics\n",
      "2014_Winter_Olympics\n",
      "2016_Summer_Olympics\n"
     ]
    }
   ],
   "source": [
    "names = [ p[\"games\"][\"value\"].replace(\"http://dbpedia.org/resource/\", \"\") for p in results[\"results\"][\"bindings\"]]\n",
    "for n in sorted(names):\n",
    "    print(n)"
   ]
  },
  {
   "cell_type": "code",
   "execution_count": null,
   "metadata": {
    "collapsed": true
   },
   "outputs": [],
   "source": []
  }
 ],
 "metadata": {
  "kernelspec": {
   "display_name": "Python 3",
   "language": "python",
   "name": "python3"
  },
  "language_info": {
   "codemirror_mode": {
    "name": "ipython",
    "version": 3
   },
   "file_extension": ".py",
   "mimetype": "text/x-python",
   "name": "python",
   "nbconvert_exporter": "python",
   "pygments_lexer": "ipython3",
   "version": "3.5.2"
  }
 },
 "nbformat": 4,
 "nbformat_minor": 1
}
